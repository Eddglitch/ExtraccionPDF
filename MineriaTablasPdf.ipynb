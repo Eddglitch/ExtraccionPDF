{
  "nbformat": 4,
  "nbformat_minor": 0,
  "metadata": {
    "colab": {
      "provenance": [],
      "authorship_tag": "ABX9TyOq7XKxFWF9xazmy8jpYjSo",
      "include_colab_link": true
    },
    "kernelspec": {
      "name": "python3",
      "display_name": "Python 3"
    },
    "language_info": {
      "name": "python"
    }
  },
  "cells": [
    {
      "cell_type": "markdown",
      "metadata": {
        "id": "view-in-github",
        "colab_type": "text"
      },
      "source": [
        "<a href=\"https://colab.research.google.com/github/Eddglitch/ExtraccionPDF/blob/main/MineriaTablasPdf.ipynb\" target=\"_parent\"><img src=\"https://colab.research.google.com/assets/colab-badge.svg\" alt=\"Open In Colab\"/></a>"
      ]
    },
    {
      "cell_type": "markdown",
      "source": [
        "<h2>LECTURA DE TABLAS</h2>\n",
        "<img alt=\"Imagen de presentación\" src=\"https://i.ytimg.com/vi/PzC2pkwNynw/maxresdefault.jpg\" width=\"900\" height=\"100\">"
      ],
      "metadata": {
        "id": "A9emgWZ3pfG5"
      }
    },
    {
      "cell_type": "code",
      "source": [],
      "metadata": {
        "id": "7HT2tObspMLm"
      },
      "execution_count": null,
      "outputs": []
    },
    {
      "cell_type": "markdown",
      "source": [
        "ASIGNACION DE COLUMNAS"
      ],
      "metadata": {
        "id": "TVxzA3iEoVvC"
      }
    },
    {
      "cell_type": "code",
      "execution_count": 1,
      "metadata": {
        "colab": {
          "base_uri": "https://localhost:8080/"
        },
        "id": "GIsofDBZnBVo",
        "outputId": "985ad5f0-ef42-4e07-82f8-bcfd25b1aa29"
      },
      "outputs": [
        {
          "output_type": "stream",
          "name": "stdout",
          "text": [
            "Mounted at /content/drive\n"
          ]
        }
      ],
      "source": []
    }
  ]
}